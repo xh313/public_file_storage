{
  "nbformat": 4,
  "nbformat_minor": 0,
  "metadata": {
    "kernelspec": {
      "display_name": "Python 3",
      "language": "python",
      "name": "python3"
    },
    "language_info": {
      "codemirror_mode": {
        "name": "ipython",
        "version": 3
      },
      "file_extension": ".py",
      "mimetype": "text/x-python",
      "name": "python",
      "nbconvert_exporter": "python",
      "pygments_lexer": "ipython3",
      "version": "3.8.3"
    },
    "colab": {
      "name": "xh313 Session7-IA-SciComp.ipynb",
      "provenance": [],
      "collapsed_sections": [],
      "toc_visible": true
    }
  },
  "cells": [
    {
      "cell_type": "markdown",
      "metadata": {
        "id": "f_4pRH1r1pLb"
      },
      "source": [
        "# NST IA Scientific Computing Session 7\n",
        "\n",
        "# Programming"
      ]
    },
    {
      "cell_type": "markdown",
      "metadata": {
        "id": "r2DdDMua1pLg"
      },
      "source": [
        "  This seventh session of the course is \n",
        "mainly a very basic introduction to programming. \n",
        "  You have already been scripting (programming / coding) in\n",
        "the Jupyter notebook cells in earlier sessions. \n",
        "  These notebooks represent a very convenient and interactive\n",
        "way of coding (the traditional way puts all the\n",
        "code in one single file).\n",
        "  \n",
        "  We will introduce **control structures**, mainly \n",
        "*loops* and *conditional statements*, as well as functions. \n",
        "  Two key concepts in programming, namely, \n",
        "**documentation** and **modularity**, will be illustrated. \n",
        "\n",
        "  You should work through the tasks given below. \n",
        "The worksheet is split into three sections:\n",
        "\n",
        "- The first section will guide you through a series of \n",
        "  exercises related to scripting and programming.\n",
        "- In the second section, you will obtain the temperature \n",
        "  dependence of an order parameter within the Bragg-Williams \n",
        "  theory for an order-disorder phase transition, by means of \n",
        "  a program that minimises an effective free-energy function \n",
        "  at different values of the temperature. \n",
        "  You will then submit a notebook containing the coding and\n",
        "  two annotated figures.\n",
        "- In the last section, you will move onto some further \n",
        "  examples of programing.\n",
        "\n",
        "We actively encourage you to work with your colleagues \n",
        "and discuss the material - however your submission must be \n",
        "your own work. \n",
        "  Ask the demonstrators for help when needed."
      ]
    },
    {
      "cell_type": "markdown",
      "metadata": {
        "id": "JptmYz6V1pLg"
      },
      "source": [
        "## Section 1. Simple programming exercises\n",
        "\n",
        "### What is a program\n",
        "\n",
        "The python cells you have already worked with in \n",
        "the Jupyter notebooks are already simple programs: \n",
        "*a file with a set of instructions to be executed in sequence*.\n",
        "Last week's submission (the notebook performing\n",
        "a Fourier interpolation of seven random points) is a program\n",
        "that you coded, which\n",
        "\n",
        "1. imports libraries, such as NumPy,\n",
        "2. generates a couple of matrices (**a** and **g**),\n",
        "3. inverts **g**,\n",
        "4. multiples **g**-inverse and **a**, and\n",
        "5. gives you (and plots) the interpolated function in whatever range.\n",
        "\n",
        "If you were to get all the coding cells of that notebook and \n",
        "put their code into a single text file, it would run like a\n",
        "python program. Although simple, it already captures the essence\n",
        "of a program. \n",
        "\n",
        "  Today we will introduce and use the following concepts\n",
        "that will infinitely enhance the power of your programming:\n",
        "\n",
        "- Functions\n",
        "- Control structures\n",
        "  - Conditionals, `if`\n",
        "  - loops\n",
        "\n",
        "We will also illustrate two cornerstones of programming\n",
        "\n",
        "- Modularity\n",
        "- Clarity and documentation\n",
        "\n",
        "The details of each command are peculiar to \n",
        "python, but today's key concepts are common to any programming\n",
        "language.\n",
        "\n",
        "There are many sources of information, documentation and tutorials\n",
        "for python (it is an extremely popular language). \n",
        "See for instance \n",
        "\n",
        "https://docs.python.org/3/tutorial/index.html\n",
        "\n",
        "It is however easy to drown in documentation. We will guide you\n",
        "through key programming concepts here as a taster of \n",
        "a very powerful tool for the natural sciences. \n",
        "It will be continued in following years."
      ]
    },
    {
      "cell_type": "markdown",
      "metadata": {
        "id": "2lGt9UkJ1pLh"
      },
      "source": [
        "### Functions\n",
        "\n",
        "  One key principle in programming is **modularity**.\n",
        "  Programs can be extremely complex, some programs \n",
        "containing millions of lines of code.\n",
        "  It is extremely important for its development and \n",
        "maintainability that the program be based on **small \n",
        "independent units**, which  perform **well defined tasks and \n",
        "can be isolated and tested independently**.\n",
        "\n",
        "  Different computer languages have different kinds of units,\n",
        "such as subroutines, modules, functions etc.\n",
        "  Here we introduce **functions** a key concept for \n",
        "many languages including python.\n",
        "\n",
        "  A function is a piece of code, which runs when called,\n",
        "receiving data sent as so-called paramters and giving data in\n",
        "return.\n",
        "\n",
        "  Many of the commands you have already used are functions, and\n",
        "actually quite sophisticated ones, with many lines of code\n",
        "within them.\n",
        "  Such is the case for the function `inv` you used to \n",
        "invert that **g** matrix: you sent **g** as parameter\n",
        "and received its inverse back.\n",
        "  It is one of the many linear algebra functions in \n",
        "the linalg set of NumPy. \n",
        "\n",
        "  The `import` command gives you access to all the functions\n",
        "in a library which you can then invoke as part of your program.\n",
        "Let us do it here, as part of the following preliminaries"
      ]
    },
    {
      "cell_type": "code",
      "metadata": {
        "id": "5-X71INI1pLi"
      },
      "source": [
        "# Importing needed libraries\n",
        "import numpy as np\n",
        "import matplotlib.pyplot as plt\n",
        "from scipy.optimize import minimize    # For minimisations we will use as part of a program\n",
        "from numpy import pi\n",
        "from numpy.random import rand, randn   # It generates random matrices\n",
        "\n",
        "np.set_printoptions(suppress=True) # makes tiny values appear as zero\n",
        "np.set_printoptions(precision=4)   # number of digits in floats (or longfloats)"
      ],
      "execution_count": null,
      "outputs": []
    },
    {
      "cell_type": "markdown",
      "metadata": {
        "id": "s7VqsWeR1pLj"
      },
      "source": [
        "  \n",
        "We will illustrate functions with simple examples.\n",
        " \n",
        "\n",
        "#### Defining a function\n",
        "\n",
        "  Let us define a python function for one of the waves in \n",
        "the practical of Session 5, the one with two pulses travelling left and right,\n",
        "\\begin{equation*}\n",
        "\\psi_b(x,t) = \\frac{A}{2} \\left ( \\frac{\\sin [ k (x-ct) ]}{k(x-ct)} + \\frac{\\sin [ k (x+ct) ]}{k(x+ct)} \\right )\n",
        "\\end{equation*}\n",
        "We do it as follows (notice indentation, which is important for python):"
      ]
    },
    {
      "cell_type": "code",
      "metadata": {
        "id": "Iqhqz9H_1pLj"
      },
      "source": [
        "# Functions for the two pulses, travelling right and in both directions\n",
        "# Input parameters: \n",
        "#   x: space 1D\n",
        "#   t: time \n",
        "# It also depends on\n",
        "#   c: wave group velocity\n",
        "#   k: wave number\n",
        "#   A: wave amplitude\n",
        "# They are defined in the namspace of the same module defining the function.\n",
        "\n",
        "def psib(x,t):\n",
        "    eps = 0.                           #  Stability parameter, use 10.**(-5.)\n",
        "    arg1 = k*(x-c*t); arg2 = k*(x+c*t)\n",
        "    wave = A / 2. * ( np.sin(arg1)/(arg1 + eps) + np.sin(arg2)/(arg2 + eps) )\n",
        "    return wave"
      ],
      "execution_count": null,
      "outputs": []
    },
    {
      "cell_type": "markdown",
      "metadata": {
        "id": "xUIYVWDP1pLk"
      },
      "source": [
        "Once defined, we can use it to plot the wave:"
      ]
    },
    {
      "cell_type": "code",
      "metadata": {
        "id": "sV0hN3KW1pLk",
        "colab": {
          "base_uri": "https://localhost:8080/",
          "height": 265
        },
        "outputId": "e4c3c665-b06a-4ae7-b4dc-9c7110b45b5e"
      },
      "source": [
        "c = 1.     # wave speed\n",
        "A = 1.     # Amplitude\n",
        "k = 2.*pi  # Wavenumber\n",
        "\n",
        "t = 1.\n",
        "x = np.linspace(-4.,4.,200)\n",
        "plt.plot(x,psib(x,t))       #  <------- Here is where we call the function\n",
        "plt.show()"
      ],
      "execution_count": null,
      "outputs": [
        {
          "output_type": "display_data",
          "data": {
            "image/png": "[encoded data removed]",
            "text/plain": [
              "<Figure size 432x288 with 1 Axes>"
            ]
          },
          "metadata": {
            "tags": [],
            "needs_background": "light"
          }
        }
      ]
    },
    {
      "cell_type": "markdown",
      "metadata": {
        "id": "0VQnYydc1pLl"
      },
      "source": [
        "### Documentation \n",
        "\n",
        "The second key principle in good programming is **clarity**.\n",
        "A program should be clear, self-explanatory. \n",
        "and for that, *documentation, documentation, documentation*, \n",
        "it cannot be emphasised enough. \n",
        "  That means one should introduce comments explaining the \n",
        "way the program works in the program itself, so that when \n",
        "another person (or yourself after a year) confronts the \n",
        "program, it can be easily understood and further developed.\n",
        "\n",
        "In the case of the defined function, see the comments in \n",
        "the cell with the function definition above. \n",
        "The python bit is quite small in comparison.\n",
        "\n",
        "In a Jypyter notebook one can explain very nicely in the text\n",
        "cells whatever you do in the code cells, but when programming\n",
        "in a normal environment (a text file with the source code), \n",
        "the explanations go in the program as comments. "
      ]
    },
    {
      "cell_type": "markdown",
      "metadata": {
        "id": "5o_En8Ma1pLl"
      },
      "source": [
        "### Loops\n",
        "\n",
        "  Loops  represent a very powerful control structure used to\n",
        "perform repetitive tasks.\n",
        "  See for example:\n",
        "  "
      ]
    },
    {
      "cell_type": "code",
      "metadata": {
        "id": "hkSDasF91pLm",
        "colab": {
          "base_uri": "https://localhost:8080/"
        },
        "outputId": "aa501dd8-ce4a-42bb-ce9e-9a67170bd32a"
      },
      "source": [
        "for j in np.arange(1, 9, 2):  # it can also go with python's range instead of np.arange   \n",
        "    print('ha!', j, 'cubed ->',j**3) # indentation important: within loop\n",
        "    print(\"-------\")\n",
        "print('and it stopped.') #not indented, outside the loop"
      ],
      "execution_count": null,
      "outputs": [
        {
          "output_type": "stream",
          "text": [
            "ha! 1 cubed -> 1\n",
            "-------\n",
            "ha! 3 cubed -> 27\n",
            "-------\n",
            "ha! 5 cubed -> 125\n",
            "-------\n",
            "ha! 7 cubed -> 343\n",
            "-------\n",
            "and it stopped.\n"
          ],
          "name": "stdout"
        }
      ]
    },
    {
      "cell_type": "code",
      "metadata": {
        "id": "4aX1H4oC1pLm",
        "colab": {
          "base_uri": "https://localhost:8080/"
        },
        "outputId": "794bcd18-92b8-4bc5-a985-565ad663d5c1"
      },
      "source": [
        "names = ['John', 'Jane', 'Peter', 'Gertrud', 'Frederic', 'Aurelia', 'Gurmesindo']\n",
        "\n",
        "for nam in names:  \n",
        "    print('My name is', nam) "
      ],
      "execution_count": null,
      "outputs": [
        {
          "output_type": "stream",
          "text": [
            "My name is John\n",
            "My name is Jane\n",
            "My name is Peter\n",
            "My name is Gertrud\n",
            "My name is Frederic\n",
            "My name is Aurelia\n",
            "My name is Gurmesindo\n"
          ],
          "name": "stdout"
        }
      ]
    },
    {
      "cell_type": "markdown",
      "metadata": {
        "id": "RvcEoDj11pLn"
      },
      "source": [
        "See the structure conventions: the loop declaration with the command\n",
        "`for`, the definition of the dummy control variable (`j` and `nam` in the\n",
        "examples) and the range of values\n",
        "it will acquire in sequence as specified in the control array \n",
        "(which therefore defines how many times it will run for), followed by a colon.\n",
        "\n",
        "  All the indented commands after the `for` command will be executed \n",
        "as many times as determined by the range of values of the dummy.\n",
        "  It can contain many, and it can contain other loops or other control \n",
        "structures *nested* inside.\n",
        "\n",
        "  There is no need to use the control variable within the loop. \n",
        "Do, for example,"
      ]
    },
    {
      "cell_type": "code",
      "metadata": {
        "id": "ltdPZVam1pLn",
        "colab": {
          "base_uri": "https://localhost:8080/"
        },
        "outputId": "2807de45-a871-4aab-8a33-7f3e96b79f36"
      },
      "source": [
        "# Average of random data following a normal distribution\n",
        "\n",
        "n = 50  # number of data points\n",
        "sum = 0 # initialise variable storing the sum\n",
        "for j in range(n):\n",
        "   sum = sum + 1 + 0.1 * randn()\n",
        "\n",
        "print(sum/n)     # Run it several times (change n as well)"
      ],
      "execution_count": null,
      "outputs": [
        {
          "output_type": "stream",
          "text": [
            "1.0287876696050262\n"
          ],
          "name": "stdout"
        }
      ]
    },
    {
      "cell_type": "markdown",
      "metadata": {
        "id": "OxSTFsvi1pLo"
      },
      "source": [
        "This little program generates a set of $n$ random numbers according to a normal \n",
        "distribution of width 0.1 around 1.0, and averages them out.\n",
        "  Take a moment to see and understand the construction\n",
        "```\n",
        "  sum = sum + ...\n",
        "```\n",
        "\n",
        "  There are other ways to perform this kind of simple\n",
        "examples in python using arrays, but this explicit construction will give you much\n",
        "more flexibility, as  in the next example.\n",
        "  "
      ]
    },
    {
      "cell_type": "markdown",
      "metadata": {
        "id": "gUuEKws-1pLo"
      },
      "source": [
        "### Conditional\n",
        "\n",
        "Try the following,"
      ]
    },
    {
      "cell_type": "code",
      "metadata": {
        "id": "StdM4RDX1pLo",
        "colab": {
          "base_uri": "https://localhost:8080/",
          "height": 265
        },
        "outputId": "c4f83e32-cc9d-4d76-d682-3ea4b8279027"
      },
      "source": [
        "# Generates and plots a truncated normal distribution\n",
        "\n",
        "n = 10000                           # number of points\n",
        "data = np.zeros(n)                  # initialise the array to store the data\n",
        "\n",
        "count = 0 \n",
        "for i in range(n):\n",
        "   a = 1 + 0.1*randn()              # data point following normal distribution\n",
        "   if a > 1.1:\n",
        "     count = count+1                # data point only counted ...\n",
        "     data[count] = a                # ... and stored if fulfilling the condition\n",
        "\n",
        "plt.xlim(0.6, 1.4)\n",
        "plt.hist(data[0:count], bins = 100) # only for the stored data\n",
        "plt.show()                          # it shows the truncated gaussian"
      ],
      "execution_count": null,
      "outputs": [
        {
          "output_type": "display_data",
          "data": {
            "image/png": "[encoded data removed]",
            "text/plain": [
              "<Figure size 432x288 with 1 Axes>"
            ]
          },
          "metadata": {
            "tags": [],
            "needs_background": "light"
          }
        }
      ]
    },
    {
      "cell_type": "markdown",
      "metadata": {
        "id": "vyPLRU0Q1pLo"
      },
      "source": [
        "This program generates the same kind of random numbers as before,\n",
        "but it only counts and stores the ones that are lower than 1.1. \n",
        "  There is no NumPy predefined function that does this for you.\n",
        "\n",
        "Within the loop you see the conditional structure \n",
        "(with its added indentation).\n",
        "  The indented commands below the `if` command\n",
        "will be executed only if the condition \n",
        "```\n",
        "a < 1.1\n",
        "```\n",
        "is fulfilled.\n",
        "  If the condition is not fulfilled, all the indented commands\n",
        "below are ignored.\n",
        "\n",
        "The loop and the conditional control structures \n",
        "in this program are said to be *nested* (one within the other). \n",
        "  You can have loops within other loops, and \n",
        "within conditionals, or conditionals within loops etc.\n",
        "  Each structure carries its own indentation, indicating\n",
        "where it finishes. \n",
        "  In this case both finish after storing the data point.\n",
        "\n",
        "\n",
        "  The conditional structure can be also used more generally\n",
        "as follows: \n",
        "```\n",
        "if condition:\n",
        "   list of instructions\n",
        "elif condition2:\n",
        "   instructions\n",
        "else:\n",
        "   instructions\n",
        "```\n",
        "both `elif` and `else` are optional, and their working\n",
        "is self-explanatory. Try it out modifying the above loop\n",
        "\n",
        "  Conditions are normally expressed in terms of\n",
        "\n",
        "- Equal: `a == b` (the `=` is used for assignment, `==` comparison)\n",
        "- Not Equal: `a != b`\n",
        "- Greater than: `a > b`\n",
        "- Greater than or equal to: `a >= b`\n",
        "- Less than: `a < b`\n",
        "- Less than or equal to: `a <= b`\n",
        "\n",
        "You can also combine conditions with `and`, `or`, as shown here"
      ]
    },
    {
      "cell_type": "code",
      "metadata": {
        "id": "YyzaX6AW1pLq",
        "colab": {
          "base_uri": "https://localhost:8080/",
          "height": 265
        },
        "outputId": "81cbb1a1-301d-467f-ad50-f8bcd0d3eb1b"
      },
      "source": [
        "# Generates and plots a gapped normal distribution\n",
        "\n",
        "n = 50000                           # number of points\n",
        "data = np.zeros(n)                  # initialise the array to store the data\n",
        "\n",
        "count = 0 \n",
        "for i in range(n):\n",
        "   a = 1 + 0.1*randn()              # data point following normal distribution\n",
        "   if a < 1.1 or a > 1.15:          # <-- HERE IS THE DIFFERENCE!!\n",
        "     count = count+1                # data point only counted \n",
        "     data[count] = a                # and stored if fulfilling the condition\n",
        "  \n",
        "plt.xlim(0.6, 1.4)\n",
        "plt.hist(data[0:count], bins = 200) # only for the stored data\n",
        "plt.show()                          # it shows the gapped gaussian"
      ],
      "execution_count": null,
      "outputs": [
        {
          "output_type": "display_data",
          "data": {
            "image/png": "[encoded data removed]",
            "text/plain": [
              "<Figure size 432x288 with 1 Axes>"
            ]
          },
          "metadata": {
            "tags": [],
            "needs_background": "light"
          }
        }
      ]
    },
    {
      "cell_type": "markdown",
      "metadata": {
        "id": "kCdWVklG1pLq"
      },
      "source": [
        "Back to the wave plot above. Let us tweak the plot so very slightly"
      ]
    },
    {
      "cell_type": "code",
      "metadata": {
        "id": "-g8V-0JF1pLq",
        "colab": {
          "base_uri": "https://localhost:8080/",
          "height": 323
        },
        "outputId": "0e15cbde-b88c-4707-ae43-76c68a4df933"
      },
      "source": [
        "c = 1.     # wave speed\n",
        "A = 1.     # Amplitude\n",
        "k = 2.*pi  # Wavenumber\n",
        "\n",
        "t = 1.\n",
        "x = np.linspace(-4.,4.,201) #  <-- Here is the tweak: 201 instead of 200\n",
        "plt.plot(x,psib(x,t))       \n",
        "plt.show()"
      ],
      "execution_count": null,
      "outputs": [
        {
          "output_type": "stream",
          "text": [
            "/usr/local/lib/python3.6/dist-packages/ipykernel_launcher.py:14: RuntimeWarning: invalid value encountered in true_divide\n",
            "  \n"
          ],
          "name": "stderr"
        },
        {
          "output_type": "display_data",
          "data": {
            "image/png": "[encoded data removed]",
            "text/plain": [
              "<Figure size 432x288 with 1 Axes>"
            ]
          },
          "metadata": {
            "tags": [],
            "needs_background": "light"
          }
        }
      ]
    },
    {
      "cell_type": "markdown",
      "metadata": {
        "id": "xSHThmXi1pLq"
      },
      "source": [
        "The plot looks the same, except for a couple of white spots on \n",
        "the two maxima, and a nasty warning message. \n",
        "This is to do with trying to evaluate $(\\sin \\alpha) / \\alpha$ \n",
        "for $\\alpha = 0$. We know it is 1, as a well defined limit, \n",
        "but NumPy sees $0/0$.\n",
        "\n",
        "Many among you found this problem in Session 5, and we skirted \n",
        "around it by changing the sampling (discretisation) so that it\n",
        "was never evaluated at zero, or by slightly changing the function.\n",
        "Here you find a better solution by defining the function using \n",
        "the tools presented above. See that you understand what it does:"
      ]
    },
    {
      "cell_type": "code",
      "metadata": {
        "id": "wxjI18W71pLq"
      },
      "source": [
        "\"\"\"\n",
        "Function for the two pulses, travelling right and in both directions\n",
        "\n",
        "with provision for 0/0\n",
        "\n",
        "Input parameters: \n",
        "   x: space 1D\n",
        "   t: time \n",
        "It also depends on (defined externally)\n",
        "   c: wave group velocity\n",
        "   k: wave number\n",
        "   A: wave amplitude\n",
        "They are defined in the namspace of the same module defining the function.\n",
        "\"\"\"\n",
        "\n",
        "def psib0(x,t):\n",
        "    eps = 10.**(-5.)  \n",
        "    \n",
        "    arg1 = k*(x-c*t)\n",
        "    arg2 = k*(x+c*t)\n",
        "    for i in range(len(arg1)):\n",
        "        if abs(arg1[i]) < eps:\n",
        "           arg1[i] = eps        # we do not worry about the sign here, no matter.\n",
        "        if abs(arg2[i]) < eps:\n",
        "           arg2[i] = eps\n",
        "                   \n",
        "    wave = A / 2. * ( np.sin(arg1)/arg1 + np.sin(arg2)/arg2 )\n",
        "    return wave"
      ],
      "execution_count": null,
      "outputs": []
    },
    {
      "cell_type": "markdown",
      "metadata": {
        "id": "q_bqAcvv1pLq"
      },
      "source": [
        "Generating the plot with the new function:"
      ]
    },
    {
      "cell_type": "code",
      "metadata": {
        "id": "61Nqglk31pLr",
        "colab": {
          "base_uri": "https://localhost:8080/",
          "height": 265
        },
        "outputId": "df2490e2-57b4-48f4-ac4f-cead1f95278d"
      },
      "source": [
        "c = 1.     # wave speed\n",
        "A = 1.     # Amplitude\n",
        "k = 2.*pi  # Wavenumber\n",
        "\n",
        "t = 1.\n",
        "x = np.linspace(-4.,4.,201)\n",
        "plt.plot(x,psib0(x,t))       #  <------- 201 points but with new function\n",
        "plt.show()"
      ],
      "execution_count": null,
      "outputs": [
        {
          "output_type": "display_data",
          "data": {
            "image/png": "[encoded data removed]",
            "text/plain": [
              "<Figure size 432x288 with 1 Axes>"
            ]
          },
          "metadata": {
            "tags": [],
            "needs_background": "light"
          }
        }
      ]
    },
    {
      "cell_type": "markdown",
      "metadata": {
        "id": "QwF8_Z5E1pLr"
      },
      "source": [
        "With combinations of conditional statements, loops, nested\n",
        "structures, functions, plus all the other commands (functions)\n",
        "in libraries such as NumPy (as learned so far), \n",
        "one can develop quite sophisticated programs.\n",
        "  These concepts are common to most programming languages,\n",
        "although the particular keywords and syntax may vary.\n",
        "\n",
        "  There are many other concepts (such as object, class, attribute,\n",
        "different kinds of data structure etc.) and commands that can\n",
        "be used, and enormous amounts of libraries (puthon an extremely \n",
        "active and numerous coding community).\n",
        "  You will get deeper into coding and python in later courses.\n",
        "\n",
        "  The quality of the programming, however, will depend not only\n",
        "on functionality, but also on clarity, modularity and, in general\n",
        "everything that can help maintaining and further developing the\n",
        "program. \n",
        "  A program that works perfectly but is so inscrutable that cannot \n",
        "be modified easily is a dead program: you all know how frequently \n",
        "programs (apps) are updated in today's world. A stagnated \n",
        "program has a lifetime of months at most.\n",
        "\n",
        "Here you can see the source code of linalg, the linear algebra\n",
        "part of NumPy:\n",
        "\n",
        "https://github.com/numpy/numpy/blob/master/numpy/linalg/linalg.py\n",
        "\n",
        "Around line 447 you see the start of the `inv` function.\n",
        "The firsst 60 lines are documentation (comments, non-executable),\n",
        "Using another way of introducing comments\n",
        "```\n",
        "\"\"\"\n",
        "as many lines of comments you want between triple double-quotes\n",
        "\"\"\"\n",
        "```\n",
        "The function itself is quite short since it is a wrapper \n",
        "calling other functions from linalg."
      ]
    },
    {
      "cell_type": "markdown",
      "metadata": {
        "id": "RWXWFo--1pLr"
      },
      "source": [
        "### Minimiser\n",
        "\n",
        "Before facing the exercise for submission, let us introduce here another\n",
        "useful function, predefined in `scipy`, which was imported before: \n",
        "the `minimize` function (American spelling). \n",
        "It finds local minima of functions. We will use it for the exercise, but\n",
        "here an illustration of how it works.\n",
        "Consider the following function\n",
        "\n",
        "\\begin{equation*}\n",
        "f(x) = a x + b x^2 + c x^4 + d x^6\n",
        "\\end{equation*}\n",
        "\n",
        "with $b$ and $d$ positive but $c$ negative. Here an example plotted"
      ]
    },
    {
      "cell_type": "code",
      "metadata": {
        "id": "yT_E66G51pLr",
        "colab": {
          "base_uri": "https://localhost:8080/",
          "height": 265
        },
        "outputId": "b5a1f163-ed43-49de-aef6-5d79ad6e0c26"
      },
      "source": [
        "def poly6(x):\n",
        "    a = .3; b = 3.; c = -1.; d = .08\n",
        "    return a*x + b*x**2 + c*x**4 + d*x**6\n",
        "\n",
        "xs = np.linspace(-3.,3.,200)\n",
        "ys = poly6(xs)\n",
        "\n",
        "plt.plot(xs, ys)\n",
        "plt.show()"
      ],
      "execution_count": null,
      "outputs": [
        {
          "output_type": "display_data",
          "data": {
            "image/png": "[encoded data removed]",
            "text/plain": [
              "<Figure size 432x288 with 1 Axes>"
            ]
          },
          "metadata": {
            "tags": [],
            "needs_background": "light"
          }
        }
      ]
    },
    {
      "cell_type": "markdown",
      "metadata": {
        "id": "avOxPWT81pLs"
      },
      "source": [
        "The `minimize` function allows finding the local minima as follows"
      ]
    },
    {
      "cell_type": "code",
      "metadata": {
        "id": "1B3AeXsn1pLs",
        "colab": {
          "base_uri": "https://localhost:8080/"
        },
        "outputId": "3bd47a63-bff1-4165-b2f2-741e84fa88ea"
      },
      "source": [
        "# Minimisation using Nelder-Mead Simplex algorithm\n",
        "\n",
        "x0 = -2.0   # Starting point\n",
        "res = minimize(poly6, x0, method='nelder-mead', options={'xatol': 1e-8})\n",
        "# xatol is tolerance: Absolute error in x between iterations acceptable for convergence.\n",
        "\n",
        "print(res.x, \"{:.4f}\".format(res.fun)) # first: array (1D in this case) for min location\n",
        "                                       # second: value of function at location"
      ],
      "execution_count": null,
      "outputs": [
        {
          "output_type": "stream",
          "text": [
            "[-2.5351] -1.5478\n"
          ],
          "name": "stdout"
        }
      ]
    },
    {
      "cell_type": "markdown",
      "metadata": {
        "id": "AcKdIKco1pLt"
      },
      "source": [
        "You can run it for different values of `x0`. \n",
        "You can see that it does not find the lowest minimum,\n",
        "but a local one (normally, but not necessarily, the closest).\n",
        "\n",
        "The `minimize` function is quite general and powerful. \n",
        "It allows for minimisations of functions in many dimensions,\n",
        "and it allows for different methods, including ones based\n",
        "not only on evaluation of the function (as the Simplex\n",
        "method used here), but also using first and second derivatives.\n",
        "\n",
        "We will use the simplex method in the exercise below. \n"
      ]
    },
    {
      "cell_type": "markdown",
      "metadata": {
        "id": "iHnxYcWX1pLt"
      },
      "source": [
        "<hr style=\"border:1px solid black\"> </hr>\n",
        "\n",
        "## Section 2. Submitting Your Work for Course Credit\n",
        "\n",
        "  You will write a small program obtaining and plotting the \n",
        "equilibrium order parameter in a metallic alloy versus temperature.\n",
        "  This program will loop over values of temperature, \n",
        "minimising a free-energy expression for each one of them.\n",
        "  This free energy will be defined as a function file."
      ]
    },
    {
      "cell_type": "markdown",
      "metadata": {
        "id": "X8NcyJi91pLt"
      },
      "source": [
        "### The Bragg-Williams model\n",
        "\n",
        "  In many materials, such as metal alloys, there is a transition between \n",
        "two phases in which the atoms are ordered or disordered over \n",
        "sites within the crystal. \n",
        "  The potential energy prefers the ordered state, but the entropy prefers \n",
        "the disordered state. \n",
        "  The contributions to the overall energy from the potential energy and \n",
        "the entropy can be written in terms of what is called a free energy, \n",
        "given the symbol $F$, and the state of order can be characterised by a \n",
        "quantity called the order parameter, $Q$, whose value varies between \n",
        "$Q = 1$ for fully ordered and $Q = 0$ for completely disordered. \n",
        "  One early attempt to develop a theory for this type of phase transition, \n",
        "now known as the Bragg-Williams model, led to the following expression \n",
        "for the free energy:\n",
        "\n",
        "\\begin{equation*}\n",
        "F = -T_c Q^2 +T [(1+Q)\\ln(1+Q)+(1-Q)\\ln(1-Q)]\n",
        "\\end{equation*}\n",
        "\n",
        "where $T$ is the temperature, and the parameter $T_c$ turns out to be \n",
        "the temperature of the phase transition.\n",
        " The equilibrium value of $Q$ at any temperature is that for which $F$ \n",
        "is a minimum.\n",
        "\n",
        "### Exercise\n",
        "\n",
        "- Write a function `bw` of `q`, returning the free energy $F$. Not to worry\n",
        "  about `Tc` and `T`, they wiil be defined externally.  \n",
        "- Plot $F$ versus $Q$ using the `bw` function, for \n",
        "  $Q \\in (-1.0, 1.0)$ (excluding the limits), with $T_c =1.0$,\n",
        "  and for three values of the temperature $T=0.8$, \n",
        "  $1.0$, and $1.4$ (as three superimposed curves).\n",
        "- Write a program that loops over 200 values of $T$ between \n",
        "  0.5 and 1.2, and for each temperature finds the equilibrium \n",
        "  $Q_e(T)$, i.e. the value of $Q$ that minimises the free energy $F$\n",
        "  at a given $T$ (always use $T_c=1.0$), using `minimize` with the \n",
        "  `bw` function defined above.\n",
        "  (Careful with the initial value of $Q$ in the minimisation, since\n",
        "  the process can take it to values that the $\\log$ may dislike. \n",
        "  0.9 seems to work).\n",
        "- Structure the program in such a way that it contains \n",
        "  initialisations of the main variables at the beginning with \n",
        "  comments describing them (number of values of $T$, initial \n",
        "  and final values of $T$, same for $Q$ for the initial figure etc.)\n",
        "- Plot the obtained values of $Q_e$ versus $T$. \n",
        "  See the transition from finite to zero $Q_e$ at $T=T_c$. \n",
        "  Plot the curve with a thicker line than the one used for \n",
        "  the axes, so that it can be distinguished if they overlap.\n",
        "- Have both the program and the function well documented with \n",
        "  comments, appropriate indentation and empty-line separations.\n",
        "  \n",
        "**Following the instructions on Moodle, submit the Jupyter notebook with the generated code and figures.**"
      ]
    },
    {
      "cell_type": "code",
      "metadata": {
        "colab": {
          "base_uri": "https://localhost:8080/",
          "height": 404
        },
        "id": "ch4_ezScG18N",
        "outputId": "98e01d53-b3f1-4e09-8284-7f665830581c"
      },
      "source": [
        "# Defining the BW function\r\n",
        "# q is the order parameter\r\n",
        "# F is the free energy\r\n",
        "# Tc is the temperature of the phase transition\r\n",
        "# T is the temperature\r\n",
        "# Tc and T are to be defined externally\r\n",
        "\r\n",
        "def bw(q) :\r\n",
        "  eps = 10**(-5) #Excluding values that are undefined in the log function\r\n",
        "  for i in range(len(q)):\r\n",
        "    if abs(1+q[i]) < eps :\r\n",
        "      q[i] = eps-1\r\n",
        "    if abs(1-q[i]) < eps :\r\n",
        "      q[i] = 1-eps\r\n",
        "\r\n",
        "  F = -Tc*q**2+T*((1+q)*np.log(1+q)+(1-q)*np.log(1-q))\r\n",
        "  return F\r\n",
        "\r\n",
        "# Plotting\r\n",
        "Tc = 1. # setting phase transition temperature parameter\r\n",
        "Q = np.linspace(-1., 1., 400) # defining the range of the order parameter\r\n",
        "plt.figure(dpi=100)\r\n",
        "\r\n",
        "# Plotting the function for three T values as below\r\n",
        "for T in np.array([0.8, 1., 1.4]):\r\n",
        "  plt.plot(Q, bw(Q), label= T)\r\n",
        "\r\n",
        "plt.xlabel('Q')\r\n",
        "plt.xlim(-1.,1.)\r\n",
        "plt.ylabel('F')\r\n",
        "plt.legend(title='T = ')\r\n",
        "plt.title('Free energy curves for T=0.8, 1.0 and 1.4')\r\n",
        "\r\n",
        "plt.show()\r\n"
      ],
      "execution_count": null,
      "outputs": [
        {
          "output_type": "display_data",
          "data": {
            "image/png": "[encoded data removed]",
            "text/plain": [
              "<Figure size 600x400 with 1 Axes>"
            ]
          },
          "metadata": {
            "tags": [],
            "needs_background": "light"
          }
        }
      ]
    },
    {
      "cell_type": "code",
      "metadata": {
        "colab": {
          "base_uri": "https://localhost:8080/",
          "height": 404
        },
        "id": "4ZtRH3NPP8Tp",
        "outputId": "40fa2d3c-4397-4dc1-f608-7925f4306a2f"
      },
      "source": [
        "# Minimisation\r\n",
        "\r\n",
        "n = 200 # Number of points used\r\n",
        "Qe = np.zeros(n)  # initialise the array to store the data\r\n",
        "count = 0 # initialise the count\r\n",
        "\r\n",
        "for T in np.linspace(0.5, 1.2, n):  # The range of T\r\n",
        "  Q0 = 0.9   # Starting point of Q\r\n",
        "  res = minimize(bw, Q0, method='nelder-mead', options={'xatol': 1e-8})\r\n",
        "  # xatol is tolerance: Absolute error in x between iterations acceptable for convergence.\r\n",
        "  Qe[count] = res.x\r\n",
        "  count = count+1\r\n",
        "\r\n",
        "# Plotting the minimum Q against T\r\n",
        "T = np.linspace(0.5, 1.2, n)\r\n",
        "\r\n",
        "plt.figure(dpi=100)\r\n",
        "plt.plot(T, Qe, linewidth=3)\r\n",
        "\r\n",
        "plt.xlabel(r'Temperature')\r\n",
        "plt.xlim(0.5,1.2)\r\n",
        "plt.ylabel(r'$Q_e$, $\\pm$')\r\n",
        "plt.ylim(1e-3,1)\r\n",
        "plt.title('The curve of equilibrium Q against temperature')\r\n",
        "\r\n",
        "plt.show()"
      ],
      "execution_count": null,
      "outputs": [
        {
          "output_type": "display_data",
          "data": {
            "image/png": "[encoded data removed]",
            "text/plain": [
              "<Figure size 600x400 with 1 Axes>"
            ]
          },
          "metadata": {
            "tags": [],
            "needs_background": "light"
          }
        }
      ]
    },
    {
      "cell_type": "markdown",
      "metadata": {
        "id": "vhNPFlV01pLt"
      },
      "source": [
        "<hr style=\"border:1px solid black\"> </hr>\n",
        "\n",
        "## Section 3. Further Exercises\n",
        "\n",
        "### Introducing input and checks in the program above\n",
        "\n",
        "The previous program contains some input data declared at the\n",
        "beginning, such as the range and number of values of temperature for the \n",
        "$Q_{e}$ evaluation.\n",
        "  Having them declared and explained at the beginning makes it easy\n",
        "to change them later for flexible use by yourself others.\n",
        "   There are many situations in programming, however, in which, although\n",
        "you want easy modification, you also want to control that only sensible\n",
        "values are introduced.\n",
        "\n",
        "- Introduce a check in the program, after the variable declaration, \n",
        "  but before the main execution part, in which the values of \n",
        "  maximum and minimum $T$ are modified to some default values \n",
        "  if they are either below 0.5 or above 2.0 .\n",
        "- Check that it works by trying out different input values \n",
        "  for those variables."
      ]
    },
    {
      "cell_type": "markdown",
      "metadata": {
        "id": "n4VYvWqM1pLt"
      },
      "source": [
        "### Obtaining the critical exponent for the order parameter\n",
        "\n",
        "This kind of transition shows no jump in the order parameter,\n",
        "but a discontinuity in the derivative. It is called a critical\n",
        "point, and the order parameter close to it can be seen to\n",
        "approach the critical point as\n",
        "\n",
        "\\begin{equation*}\n",
        "Q \\sim (T_c-T)^{\\beta} \\quad \\mathrm{for} \\quad T<T_c \n",
        "\\quad \\mathrm{and} \\quad T\\rightarrow T_c\n",
        "\\end{equation*}\n",
        "\n",
        "where $\\beta$ is one of the s-called critical exponents.\n",
        "Try to obtain the value of $\\beta$ for the critical point\n",
        "in the Bragg-Williams model, and check it graphically.\n",
        "For that:\n",
        "\n",
        "- Remove the data points for $T\\geq T_C$ (giving log problems with $Q_{eq} = 0$\n",
        "  or numerically very close).\n",
        "  \n",
        "  Of course, knowing the range of $T$ values and that $Q_{eq}$ becomes zero\n",
        "  at $T/T_c=1$, it is easy to separate non-zero from zero values, but let us \n",
        "  find it out explicitly instead. Try the two constructions below. The first one\n",
        "  introduces the `break` command,\n",
        "  \n",
        "  ```\n",
        "  # First find non-zero values of qeq (to avoid problems with logs)\n",
        "\n",
        "  eps = 10.**(-7.)     # lowest non-zero value allowed\n",
        "\n",
        "  for i in range(nt):\n",
        "      if qeq[i] < eps:\n",
        "          break         # stops the loop\n",
        "  nonzero = i-1        # the last array index for which T is larger than the tolerance eps\n",
        "  # print(i)\n",
        "  ```\n",
        "  and the second the `while` conditional loop\n",
        "  ```\n",
        "  i = 0\n",
        "  while qeq[i] > eps:\n",
        "      i = i + 1\n",
        "  nonzero = i-1 \n",
        "  ```\n",
        "\n",
        "- Plot $\\log Q$ vs $\\log ( 1 - T/T_c )$.\n",
        "\n",
        "- Numerically obtain and plot the slope of the previous curve.\n",
        "  which gives $\\beta$ in the $T\\rightarrow T_c$ limit ($x \\rightarrow -\\infty$ \n",
        "  in previous plot). You should get $\\beta=1/2$.\n",
        "  \n",
        "- Check it by plotting a straight line of that slope in the log-log plot \n",
        "  and compare.\n",
        "  \n",
        "- Compare the fit in the original $Q_{eq}(T/T_c)$ plot."
      ]
    },
    {
      "cell_type": "markdown",
      "metadata": {
        "id": "oPJ54qHi1pLt"
      },
      "source": [
        "### Further exploration of random matrices\n",
        "\n",
        "- Make a small program that \n",
        "  -  generates 10,000 square $10\\times 10$ random matrices, \n",
        "     each one according to a normal distribution around zero \n",
        "     and of width equal to one,\n",
        "  -  calculates and stores the determinant of each matrix in \n",
        "     an array (no need to store the matrices themselves), \n",
        "  -  plots a histogram of the distribution of determinants, and\n",
        "  - calculates the standard deviation of that distribution.\n",
        "  \n",
        "  You can run the program many times and see how both the  histogram\n",
        "  and the standard deviation change.\n",
        "  \n",
        "\n",
        "- Modify your earlier program so that it performs the above\n",
        "  for a series of matrix dimensions, from 1 to 40.\n",
        "  - Store the above calculated standard deviation for the \n",
        "    different dimensions in an array (1 to 40)\n",
        "  - Plot the $\\log$ of the standard deviation versus the \n",
        "    matrix dimension."
      ]
    }
  ]
}